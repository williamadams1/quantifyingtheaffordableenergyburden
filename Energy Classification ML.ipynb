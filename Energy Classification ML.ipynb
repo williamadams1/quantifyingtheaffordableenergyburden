{
 "cells": [
  {
   "cell_type": "code",
   "execution_count": 6,
   "metadata": {},
   "outputs": [],
   "source": [
    "# Import all of the necessary libraries to start \n",
    "import pandas as pd\n",
    "import numpy as np\n",
    "import matplotlib.pyplot as plt\n",
    "from sklearn import preprocessing\n",
    "from sklearn.preprocessing import binarize\n",
    "from sklearn.model_selection import GridSearchCV\n",
    "pd.options.display.max_columns = 999\n",
    "pd.options.display.max_rows = 999"
   ]
  },
  {
   "cell_type": "code",
   "execution_count": 3,
   "metadata": {
    "scrolled": true
   },
   "outputs": [
    {
     "data": {
      "text/html": [
       "<div>\n",
       "<style scoped>\n",
       "    .dataframe tbody tr th:only-of-type {\n",
       "        vertical-align: middle;\n",
       "    }\n",
       "\n",
       "    .dataframe tbody tr th {\n",
       "        vertical-align: top;\n",
       "    }\n",
       "\n",
       "    .dataframe thead th {\n",
       "        text-align: right;\n",
       "    }\n",
       "</style>\n",
       "<table border=\"1\" class=\"dataframe\">\n",
       "  <thead>\n",
       "    <tr style=\"text-align: right;\">\n",
       "      <th></th>\n",
       "      <th>AMTMICROM</th>\n",
       "      <th>CDD30YR</th>\n",
       "      <th>CDD65</th>\n",
       "      <th>CLIMATE_REGION_PUB</th>\n",
       "      <th>CUFEETNG</th>\n",
       "      <th>DIVISION</th>\n",
       "      <th>DOLLARELM</th>\n",
       "      <th>DOOR1SUM</th>\n",
       "      <th>EDUCATION</th>\n",
       "      <th>KWH_M</th>\n",
       "      <th>NUMADULT</th>\n",
       "      <th>REBATEAPP</th>\n",
       "      <th>SEPDVR</th>\n",
       "      <th>SOLOTHER</th>\n",
       "      <th>TAXCREDITAPP</th>\n",
       "      <th>TOTSQFT_EN</th>\n",
       "      <th>TOTUCSQFT</th>\n",
       "      <th>TVAUDIOSYS</th>\n",
       "      <th>TVONWD1</th>\n",
       "      <th>TVONWE1</th>\n",
       "      <th>USECENAC</th>\n",
       "      <th>TOTDOLENM</th>\n",
       "      <th>INCOMEM</th>\n",
       "      <th>EN_BURDEN</th>\n",
       "      <th>ENERGY_SQFT</th>\n",
       "      <th>Y</th>\n",
       "    </tr>\n",
       "  </thead>\n",
       "  <tbody>\n",
       "    <tr>\n",
       "      <th>0</th>\n",
       "      <td>0.101010</td>\n",
       "      <td>0.229972</td>\n",
       "      <td>0.267595</td>\n",
       "      <td>0.00</td>\n",
       "      <td>0.094787</td>\n",
       "      <td>1.000000</td>\n",
       "      <td>0.117037</td>\n",
       "      <td>0.250</td>\n",
       "      <td>0.25</td>\n",
       "      <td>0.082462</td>\n",
       "      <td>0.111111</td>\n",
       "      <td>0</td>\n",
       "      <td>0.0</td>\n",
       "      <td>0</td>\n",
       "      <td>0</td>\n",
       "      <td>0.191667</td>\n",
       "      <td>0.050088</td>\n",
       "      <td>0.000000</td>\n",
       "      <td>0.4</td>\n",
       "      <td>0.6</td>\n",
       "      <td>0.6</td>\n",
       "      <td>0.133333</td>\n",
       "      <td>1.000000</td>\n",
       "      <td>0.017126</td>\n",
       "      <td>0.092348</td>\n",
       "      <td>0</td>\n",
       "    </tr>\n",
       "    <tr>\n",
       "      <th>1</th>\n",
       "      <td>0.202020</td>\n",
       "      <td>0.430594</td>\n",
       "      <td>0.423036</td>\n",
       "      <td>0.25</td>\n",
       "      <td>0.000000</td>\n",
       "      <td>0.666667</td>\n",
       "      <td>0.165926</td>\n",
       "      <td>0.000</td>\n",
       "      <td>0.25</td>\n",
       "      <td>0.191716</td>\n",
       "      <td>0.111111</td>\n",
       "      <td>0</td>\n",
       "      <td>0.0</td>\n",
       "      <td>0</td>\n",
       "      <td>0</td>\n",
       "      <td>0.064976</td>\n",
       "      <td>0.000000</td>\n",
       "      <td>0.000000</td>\n",
       "      <td>1.0</td>\n",
       "      <td>1.0</td>\n",
       "      <td>0.0</td>\n",
       "      <td>0.129762</td>\n",
       "      <td>0.153867</td>\n",
       "      <td>0.087008</td>\n",
       "      <td>0.222115</td>\n",
       "      <td>0</td>\n",
       "    </tr>\n",
       "    <tr>\n",
       "      <th>2</th>\n",
       "      <td>0.141414</td>\n",
       "      <td>0.355490</td>\n",
       "      <td>0.338278</td>\n",
       "      <td>0.50</td>\n",
       "      <td>0.092891</td>\n",
       "      <td>0.555556</td>\n",
       "      <td>0.296296</td>\n",
       "      <td>0.125</td>\n",
       "      <td>0.00</td>\n",
       "      <td>0.310279</td>\n",
       "      <td>0.222222</td>\n",
       "      <td>0</td>\n",
       "      <td>0.0</td>\n",
       "      <td>0</td>\n",
       "      <td>0</td>\n",
       "      <td>0.249638</td>\n",
       "      <td>0.071625</td>\n",
       "      <td>0.000000</td>\n",
       "      <td>0.8</td>\n",
       "      <td>0.8</td>\n",
       "      <td>0.2</td>\n",
       "      <td>0.275000</td>\n",
       "      <td>0.153867</td>\n",
       "      <td>0.183071</td>\n",
       "      <td>0.150586</td>\n",
       "      <td>1</td>\n",
       "    </tr>\n",
       "    <tr>\n",
       "      <th>3</th>\n",
       "      <td>0.000000</td>\n",
       "      <td>0.229109</td>\n",
       "      <td>0.207961</td>\n",
       "      <td>0.50</td>\n",
       "      <td>0.000000</td>\n",
       "      <td>0.333333</td>\n",
       "      <td>0.158519</td>\n",
       "      <td>0.500</td>\n",
       "      <td>0.75</td>\n",
       "      <td>0.155045</td>\n",
       "      <td>0.000000</td>\n",
       "      <td>0</td>\n",
       "      <td>0.0</td>\n",
       "      <td>0</td>\n",
       "      <td>0</td>\n",
       "      <td>0.284058</td>\n",
       "      <td>0.050088</td>\n",
       "      <td>0.000000</td>\n",
       "      <td>0.4</td>\n",
       "      <td>0.2</td>\n",
       "      <td>0.4</td>\n",
       "      <td>0.202381</td>\n",
       "      <td>0.307735</td>\n",
       "      <td>0.080315</td>\n",
       "      <td>0.097378</td>\n",
       "      <td>0</td>\n",
       "    </tr>\n",
       "    <tr>\n",
       "      <th>4</th>\n",
       "      <td>0.060606</td>\n",
       "      <td>0.150380</td>\n",
       "      <td>0.150295</td>\n",
       "      <td>0.75</td>\n",
       "      <td>0.079621</td>\n",
       "      <td>0.111111</td>\n",
       "      <td>0.068148</td>\n",
       "      <td>0.125</td>\n",
       "      <td>0.25</td>\n",
       "      <td>0.048451</td>\n",
       "      <td>0.111111</td>\n",
       "      <td>0</td>\n",
       "      <td>0.0</td>\n",
       "      <td>0</td>\n",
       "      <td>0</td>\n",
       "      <td>0.096981</td>\n",
       "      <td>0.042700</td>\n",
       "      <td>0.222222</td>\n",
       "      <td>0.4</td>\n",
       "      <td>0.4</td>\n",
       "      <td>0.4</td>\n",
       "      <td>0.084524</td>\n",
       "      <td>0.307735</td>\n",
       "      <td>0.033268</td>\n",
       "      <td>0.106547</td>\n",
       "      <td>0</td>\n",
       "    </tr>\n",
       "  </tbody>\n",
       "</table>\n",
       "</div>"
      ],
      "text/plain": [
       "   AMTMICROM   CDD30YR     CDD65  CLIMATE_REGION_PUB  CUFEETNG  DIVISION  \\\n",
       "0   0.101010  0.229972  0.267595                0.00  0.094787  1.000000   \n",
       "1   0.202020  0.430594  0.423036                0.25  0.000000  0.666667   \n",
       "2   0.141414  0.355490  0.338278                0.50  0.092891  0.555556   \n",
       "3   0.000000  0.229109  0.207961                0.50  0.000000  0.333333   \n",
       "4   0.060606  0.150380  0.150295                0.75  0.079621  0.111111   \n",
       "\n",
       "   DOLLARELM  DOOR1SUM  EDUCATION     KWH_M  NUMADULT  REBATEAPP  SEPDVR  \\\n",
       "0   0.117037     0.250       0.25  0.082462  0.111111          0     0.0   \n",
       "1   0.165926     0.000       0.25  0.191716  0.111111          0     0.0   \n",
       "2   0.296296     0.125       0.00  0.310279  0.222222          0     0.0   \n",
       "3   0.158519     0.500       0.75  0.155045  0.000000          0     0.0   \n",
       "4   0.068148     0.125       0.25  0.048451  0.111111          0     0.0   \n",
       "\n",
       "   SOLOTHER  TAXCREDITAPP  TOTSQFT_EN  TOTUCSQFT  TVAUDIOSYS  TVONWD1  \\\n",
       "0         0             0    0.191667   0.050088    0.000000      0.4   \n",
       "1         0             0    0.064976   0.000000    0.000000      1.0   \n",
       "2         0             0    0.249638   0.071625    0.000000      0.8   \n",
       "3         0             0    0.284058   0.050088    0.000000      0.4   \n",
       "4         0             0    0.096981   0.042700    0.222222      0.4   \n",
       "\n",
       "   TVONWE1  USECENAC  TOTDOLENM   INCOMEM  EN_BURDEN  ENERGY_SQFT  Y  \n",
       "0      0.6       0.6   0.133333  1.000000   0.017126     0.092348  0  \n",
       "1      1.0       0.0   0.129762  0.153867   0.087008     0.222115  0  \n",
       "2      0.8       0.2   0.275000  0.153867   0.183071     0.150586  1  \n",
       "3      0.2       0.4   0.202381  0.307735   0.080315     0.097378  0  \n",
       "4      0.4       0.4   0.084524  0.307735   0.033268     0.106547  0  "
      ]
     },
     "execution_count": 3,
     "metadata": {},
     "output_type": "execute_result"
    }
   ],
   "source": [
    "df = pd.read_csv(\"energy_classification_features_final.csv\")\n",
    "df.head()"
   ]
  },
  {
   "cell_type": "code",
   "execution_count": 4,
   "metadata": {
    "scrolled": true
   },
   "outputs": [
    {
     "data": {
      "text/plain": [
       "(5686, 26)"
      ]
     },
     "execution_count": 4,
     "metadata": {},
     "output_type": "execute_result"
    }
   ],
   "source": [
    "df.shape"
   ]
  },
  {
   "cell_type": "code",
   "execution_count": 12,
   "metadata": {},
   "outputs": [],
   "source": [
    "X = df.values[:, 0:25]\n",
    "Y = df.values[:, 25]"
   ]
  },
  {
   "cell_type": "code",
   "execution_count": 13,
   "metadata": {},
   "outputs": [],
   "source": [
    "# Create regularization penalty space\n",
    "penalty = ['l1', 'l2']\n",
    "\n",
    "# Create regularization hyperparameter space\n",
    "C = np.logspace(0, 4, 10)\n",
    "\n",
    "# Create hyperparameter options\n",
    "hyperparameters = dict(C=C, penalty=penalty)"
   ]
  },
  {
   "cell_type": "code",
   "execution_count": 14,
   "metadata": {},
   "outputs": [],
   "source": [
    "clf = GridSearchCV"
   ]
  },
  {
   "cell_type": "code",
   "execution_count": 18,
   "metadata": {},
   "outputs": [
    {
     "name": "stdout",
     "output_type": "stream",
     "text": [
      "Fitting 5 folds for each of 20 candidates, totalling 100 fits\n"
     ]
    },
    {
     "name": "stderr",
     "output_type": "stream",
     "text": [
      "[Parallel(n_jobs=1)]: Done 100 out of 100 | elapsed:  1.3min finished\n"
     ]
    },
    {
     "name": "stdout",
     "output_type": "stream",
     "text": [
      "Best Penalty: l1\n",
      "Best C: 7.742636826811269\n"
     ]
    }
   ],
   "source": [
    "# Fit training dataset to logistic regression model \n",
    "from sklearn.linear_model import LogisticRegression\n",
    "from sklearn.model_selection import train_test_split, GridSearchCV, KFold, cross_val_score, validation_curve\n",
    "\n",
    "lr = LogisticRegression()\n",
    "clf = GridSearchCV(lr, hyperparameters, cv = 5, verbose = 1)\n",
    "\n",
    "best_model = clf.fit(X, Y)\n",
    "print('Best Penalty:', best_model.best_estimator_.get_params()['penalty'])\n",
    "print('Best C:', best_model.best_estimator_.get_params()['C'])"
   ]
  },
  {
   "cell_type": "code",
   "execution_count": 21,
   "metadata": {},
   "outputs": [
    {
     "name": "stdout",
     "output_type": "stream",
     "text": [
      "The accuracy score are [0.99824253 0.99824253 1.         0.99121265 0.99824253 0.99297012\n",
      " 1.         0.99647887 0.99823944 0.99647887]\n",
      "The mean of the accuracy scores is 0.9970107552167132\n"
     ]
    }
   ],
   "source": [
    "# Calculate Accuracy\n",
    "\n",
    "lr_model = LogisticRegression(C = 7.7426, penalty = 'l1')\n",
    "shuffle = KFold(n_splits=10, shuffle=True, random_state=42)\n",
    "\n",
    "accuracy = cross_val_score(lr_model, X, Y, cv=shuffle, scoring = 'accuracy')\n",
    "\n",
    "print (\"The accuracy score are %s\" \n",
    "       % (accuracy))\n",
    "\n",
    "print (\"The mean of the accuracy scores is %s\"\n",
    "      % (accuracy.mean()))"
   ]
  },
  {
   "cell_type": "code",
   "execution_count": 32,
   "metadata": {},
   "outputs": [
    {
     "data": {
      "text/plain": [
       "<matplotlib.figure.Figure at 0x1a20d06080>"
      ]
     },
     "metadata": {},
     "output_type": "display_data"
    },
    {
     "data": {
      "image/png": "[encoded data removed]",
      "text/plain": [
       "<matplotlib.figure.Figure at 0x1a206c0438>"
      ]
     },
     "metadata": {},
     "output_type": "display_data"
    }
   ],
   "source": [
    "# Import Confusion Matrix Libraries \n",
    "import itertools\n",
    "import numpy as np\n",
    "import matplotlib.pyplot as plt\n",
    "%matplotlib inline\n",
    "\n",
    "from sklearn.model_selection import cross_val_predict\n",
    "from sklearn.metrics import confusion_matrix\n",
    "y_pred = cross_val_predict(lr_model, X,Y, cv=10)\n",
    "cm = confusion_matrix(Y,y_pred)\n",
    "plt.clf()\n",
    "plt.figure(figsize = (7, 5))\n",
    "plt.imshow(cm, interpolation='nearest', cmap = 'Blues')\n",
    "plt.colorbar()\n",
    "classNames = ['No','Yes']\n",
    "plt.title('Confusion Matrix')\n",
    "plt.ylabel('Actual')\n",
    "plt.xlabel('Predicted')\n",
    "tick_marks = np.arange(len(classNames))\n",
    "plt.xticks(tick_marks, classNames, rotation=0)\n",
    "plt.yticks(tick_marks, classNames)\n",
    "s = [['TN','FP'], ['FN', 'TP']]\n",
    "thresh = cm.max() / 1.5 if s else cm.max() / 2\n",
    "for i in range(2):\n",
    "    for j in range(2):\n",
    "        plt.text(j,i, str(s[i][j])+\" = \"+format(cm[i][j]), \n",
    "                 horizontalalignment =\"center\", \n",
    "                 color =\"white\" if cm[i][j] > thresh else \"black\")       \n",
    "plt.tight_layout()\n",
    "plt.show()"
   ]
  },
  {
   "cell_type": "code",
   "execution_count": 28,
   "metadata": {
    "scrolled": true
   },
   "outputs": [
    {
     "name": "stdout",
     "output_type": "stream",
     "text": [
      "Accuracy: 0.9972\n",
      "Recall Score: 0.9928\n",
      "Precision Score: 0.9957\n",
      "F1 Score: 0.9943\n"
     ]
    }
   ],
   "source": [
    "from sklearn.metrics import accuracy_score, recall_score, precision_score, f1_score \n",
    "\n",
    "print ('Accuracy: {:.4f}'.format(accuracy_score(Y, y_pred)))\n",
    "print ('Recall Score: {:.4f}'.format(recall_score(Y, y_pred)))\n",
    "print ('Precision Score: {:.4f}'.format(precision_score(Y, y_pred)))\n",
    "print ('F1 Score: {:.4f}'.format(f1_score(Y, y_pred)))"
   ]
  },
  {
   "cell_type": "code",
   "execution_count": 31,
   "metadata": {},
   "outputs": [
    {
     "name": "stdout",
     "output_type": "stream",
     "text": [
      "Using matplotlib backend: MacOSX\n"
     ]
    },
    {
     "data": {
      "text/plain": [
       "<matplotlib.figure.Figure at 0x1a20acb518>"
      ]
     },
     "metadata": {},
     "output_type": "display_data"
    },
    {
     "data": {
      "image/png": "[encoded data removed]",
      "text/plain": [
       "<matplotlib.figure.Figure at 0x1a20d06048>"
      ]
     },
     "metadata": {},
     "output_type": "display_data"
    }
   ],
   "source": [
    "# ROC Curve \n",
    "from sklearn.metrics import roc_curve, auc\n",
    "import matplotlib.pyplot as plt\n",
    "%matplotlib\n",
    "\n",
    "fpr, tpr, thresholds = roc_curve(Y, y_pred)\n",
    "roc_auc = auc(fpr, tpr)\n",
    "\n",
    "plt.clf()\n",
    "plt.figure(figsize = (9, 7))\n",
    "plt.plot(fpr, tpr, color='navy',\n",
    "         lw=2, label='ROC Curve (AUC = %0.2f)' % roc_auc)\n",
    "plt.plot([0, 2], [0, 2], color='red', lw=2, linestyle='--')\n",
    "plt.xlim([0.0, 1.0])\n",
    "plt.ylim([0.0, 1.0])\n",
    "plt.rcParams['font.size'] = 11\n",
    "plt.title('ROC Curve')\n",
    "plt.xlabel('Specificity')\n",
    "plt.ylabel('Sensitivity')\n",
    "plt.legend(loc=\"lower right\")\n",
    "plt.grid(True)\n",
    "plt.show()"
   ]
  },
  {
   "cell_type": "code",
   "execution_count": null,
   "metadata": {},
   "outputs": [],
   "source": []
  },
  {
   "cell_type": "code",
   "execution_count": null,
   "metadata": {},
   "outputs": [],
   "source": []
  },
  {
   "cell_type": "code",
   "execution_count": null,
   "metadata": {},
   "outputs": [],
   "source": []
  },
  {
   "cell_type": "code",
   "execution_count": null,
   "metadata": {},
   "outputs": [],
   "source": []
  },
  {
   "cell_type": "code",
   "execution_count": null,
   "metadata": {},
   "outputs": [],
   "source": []
  },
  {
   "cell_type": "code",
   "execution_count": null,
   "metadata": {},
   "outputs": [],
   "source": []
  },
  {
   "cell_type": "code",
   "execution_count": null,
   "metadata": {},
   "outputs": [],
   "source": []
  },
  {
   "cell_type": "code",
   "execution_count": null,
   "metadata": {},
   "outputs": [],
   "source": []
  },
  {
   "cell_type": "code",
   "execution_count": null,
   "metadata": {},
   "outputs": [],
   "source": []
  },
  {
   "cell_type": "code",
   "execution_count": null,
   "metadata": {},
   "outputs": [],
   "source": []
  },
  {
   "cell_type": "code",
   "execution_count": null,
   "metadata": {},
   "outputs": [],
   "source": []
  },
  {
   "cell_type": "code",
   "execution_count": null,
   "metadata": {},
   "outputs": [],
   "source": []
  },
  {
   "cell_type": "code",
   "execution_count": null,
   "metadata": {},
   "outputs": [],
   "source": []
  },
  {
   "cell_type": "code",
   "execution_count": null,
   "metadata": {},
   "outputs": [],
   "source": []
  },
  {
   "cell_type": "code",
   "execution_count": null,
   "metadata": {},
   "outputs": [],
   "source": []
  },
  {
   "cell_type": "code",
   "execution_count": null,
   "metadata": {},
   "outputs": [],
   "source": []
  }
 ],
 "metadata": {
  "kernelspec": {
   "display_name": "Python 3",
   "language": "python",
   "name": "python3"
  },
  "language_info": {
   "codemirror_mode": {
    "name": "ipython",
    "version": 3
   },
   "file_extension": ".py",
   "mimetype": "text/x-python",
   "name": "python",
   "nbconvert_exporter": "python",
   "pygments_lexer": "ipython3",
   "version": "3.6.4"
  }
 },
 "nbformat": 4,
 "nbformat_minor": 2
}
